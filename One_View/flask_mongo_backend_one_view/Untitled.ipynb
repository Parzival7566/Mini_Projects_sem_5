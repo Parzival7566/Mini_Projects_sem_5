{
 "cells": [
  {
   "cell_type": "code",
   "execution_count": 2,
   "id": "5e5e8a86",
   "metadata": {},
   "outputs": [
    {
     "name": "stdout",
     "output_type": "stream",
     "text": [
      "Requirement already satisfied: Flask in c:\\users\\anushka wani\\onedrive\\documents\\lib\\site-packages (1.1.2)\n",
      "Requirement already satisfied: pymongo in c:\\users\\anushka wani\\onedrive\\documents\\lib\\site-packages (4.5.0)\n",
      "Requirement already satisfied: itsdangerous>=0.24 in c:\\users\\anushka wani\\onedrive\\documents\\lib\\site-packages (from Flask) (2.0.1)\n",
      "Requirement already satisfied: Werkzeug>=0.15 in c:\\users\\anushka wani\\onedrive\\documents\\lib\\site-packages (from Flask) (2.0.3)\n",
      "Requirement already satisfied: click>=5.1 in c:\\users\\anushka wani\\onedrive\\documents\\lib\\site-packages (from Flask) (8.0.4)\n",
      "Requirement already satisfied: Jinja2>=2.10.1 in c:\\users\\anushka wani\\onedrive\\documents\\lib\\site-packages (from Flask) (2.11.3)\n",
      "Requirement already satisfied: dnspython<3.0.0,>=1.16.0 in c:\\users\\anushka wani\\onedrive\\documents\\lib\\site-packages (from pymongo) (2.4.2)\n",
      "Requirement already satisfied: colorama in c:\\users\\anushka wani\\onedrive\\documents\\lib\\site-packages (from click>=5.1->Flask) (0.4.4)\n",
      "Requirement already satisfied: MarkupSafe>=0.23 in c:\\users\\anushka wani\\onedrive\\documents\\lib\\site-packages (from Jinja2>=2.10.1->Flask) (2.0.1)\n"
     ]
    }
   ],
   "source": [
    "!pip install Flask pymongo"
   ]
  },
  {
   "cell_type": "code",
   "execution_count": null,
   "id": "138d6739",
   "metadata": {},
   "outputs": [],
   "source": []
  },
  {
   "cell_type": "code",
   "execution_count": null,
   "id": "fd71479b",
   "metadata": {},
   "outputs": [],
   "source": []
  },
  {
   "cell_type": "code",
   "execution_count": 3,
   "id": "8d76d20b",
   "metadata": {},
   "outputs": [],
   "source": [
    "!set FLASK_APP=app\n",
    "!set FLASK_ENV=development"
   ]
  },
  {
   "cell_type": "code",
   "execution_count": null,
   "id": "91b8ec2b",
   "metadata": {},
   "outputs": [],
   "source": [
    "!flask run"
   ]
  },
  {
   "cell_type": "code",
   "execution_count": null,
   "id": "8624d841",
   "metadata": {},
   "outputs": [],
   "source": []
  },
  {
   "cell_type": "code",
   "execution_count": null,
   "id": "56141fde",
   "metadata": {},
   "outputs": [],
   "source": []
  }
 ],
 "metadata": {
  "kernelspec": {
   "display_name": "Python 3 (ipykernel)",
   "language": "python",
   "name": "python3"
  },
  "language_info": {
   "codemirror_mode": {
    "name": "ipython",
    "version": 3
   },
   "file_extension": ".py",
   "mimetype": "text/x-python",
   "name": "python",
   "nbconvert_exporter": "python",
   "pygments_lexer": "ipython3",
   "version": "3.9.12"
  }
 },
 "nbformat": 4,
 "nbformat_minor": 5
}
